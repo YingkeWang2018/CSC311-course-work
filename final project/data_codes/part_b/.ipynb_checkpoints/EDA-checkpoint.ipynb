{
 "cells": [
  {
   "cell_type": "code",
   "execution_count": 1,
   "metadata": {},
   "outputs": [
    {
     "ename": "ModuleNotFoundError",
     "evalue": "No module named 'utils'",
     "output_type": "error",
     "traceback": [
      "\u001b[0;31m---------------------------------------------------------------------------\u001b[0m",
      "\u001b[0;31mModuleNotFoundError\u001b[0m                       Traceback (most recent call last)",
      "\u001b[0;32m<ipython-input-1-ccec1396bad9>\u001b[0m in \u001b[0;36m<module>\u001b[0;34m\u001b[0m\n\u001b[0;32m----> 1\u001b[0;31m \u001b[0;32mfrom\u001b[0m \u001b[0mutils\u001b[0m \u001b[0;32mimport\u001b[0m \u001b[0;34m*\u001b[0m\u001b[0;34m\u001b[0m\u001b[0;34m\u001b[0m\u001b[0m\n\u001b[0m\u001b[1;32m      2\u001b[0m \u001b[0;32mimport\u001b[0m \u001b[0mtorch\u001b[0m\u001b[0;34m\u001b[0m\u001b[0;34m\u001b[0m\u001b[0m\n\u001b[1;32m      3\u001b[0m \u001b[0;32mimport\u001b[0m \u001b[0mnumpy\u001b[0m \u001b[0;32mas\u001b[0m \u001b[0mnp\u001b[0m\u001b[0;34m\u001b[0m\u001b[0;34m\u001b[0m\u001b[0m\n\u001b[1;32m      4\u001b[0m \u001b[0;32mimport\u001b[0m \u001b[0mpandas\u001b[0m \u001b[0;32mas\u001b[0m \u001b[0mpd\u001b[0m\u001b[0;34m\u001b[0m\u001b[0;34m\u001b[0m\u001b[0m\n\u001b[1;32m      5\u001b[0m \u001b[0;32mimport\u001b[0m \u001b[0mmatplotlib\u001b[0m\u001b[0;34m.\u001b[0m\u001b[0mpyplot\u001b[0m \u001b[0;32mas\u001b[0m \u001b[0mplt\u001b[0m\u001b[0;34m\u001b[0m\u001b[0;34m\u001b[0m\u001b[0m\n",
      "\u001b[0;31mModuleNotFoundError\u001b[0m: No module named 'utils'"
     ]
    }
   ],
   "source": [
    "from utils import *\n",
    "import torch\n",
    "import numpy as np\n",
    "import pandas as pd\n",
    "import matplotlib.pyplot as plt"
   ]
  },
  {
   "cell_type": "code",
   "execution_count": null,
   "metadata": {},
   "outputs": [],
   "source": [
    "def load_data(base_path=\"../data\"):\n",
    "    \"\"\" Load the data in PyTorch Tensor.\n",
    "\n",
    "    :return: (zero_train_matrix, train_data, valid_data, test_data)\n",
    "        WHERE:\n",
    "        zero_train_matrix: 2D sparse matrix where missing entries are\n",
    "        filled with 0.\n",
    "        train_data: 2D sparse matrix\n",
    "        valid_data: A dictionary {user_id: list,\n",
    "        user_id: list, is_correct: list}\n",
    "        test_data: A dictionary {user_id: list,\n",
    "        user_id: list, is_correct: list}\n",
    "    \"\"\"\n",
    "    train_matrix = load_train_sparse(base_path).toarray()\n",
    "    valid_data = load_valid_csv(base_path)\n",
    "    test_data = load_public_test_csv(base_path)\n",
    "\n",
    "    zero_train_matrix = train_matrix.copy()\n",
    "    # Fill in the missing entries to 0.\n",
    "    zero_train_matrix[np.isnan(train_matrix)] = 0\n",
    "    # Change to Float Tensor for PyTorch.\n",
    "    zero_train_matrix = torch.FloatTensor(zero_train_matrix)\n",
    "    train_matrix = torch.FloatTensor(train_matrix)\n",
    "\n",
    "    return zero_train_matrix, train_matrix, valid_data, test_data"
   ]
  },
  {
   "cell_type": "code",
   "execution_count": null,
   "metadata": {},
   "outputs": [],
   "source": [
    "zero_train_matrix, train_matrix, valid_data, test_data = load_data()"
   ]
  },
  {
   "cell_type": "code",
   "execution_count": null,
   "metadata": {},
   "outputs": [],
   "source": [
    "df_training=pd.DataFrame(train_matrix.numpy())\n",
    "df_training.describe()"
   ]
  },
  {
   "cell_type": "code",
   "execution_count": null,
   "metadata": {},
   "outputs": [],
   "source": [
    "numStudents =df_training.shape[0]\n",
    "numQuestions =df_training.shape[1]\n",
    "print(\"Number of Students:\", numStudents)\n",
    "print(\"Number of Questions:\", numQuestions)"
   ]
  },
  {
   "cell_type": "code",
   "execution_count": null,
   "metadata": {},
   "outputs": [],
   "source": [
    "trainmatrix_np=train_matrix.numpy()\n",
    "sparsity=len(trainmatrix_np[np.isnan(trainmatrix_np)])/(numStudents*numQuestions)\n",
    "print(\"sparsity:\", sparsity)\n",
    "\n"
   ]
  },
  {
   "cell_type": "code",
   "execution_count": null,
   "metadata": {},
   "outputs": [],
   "source": [
    "def freqsummary(df_training):\n",
    "    new_df=pd.DataFrame()\n",
    "    for ci in list(df_training.columns):\n",
    "        temp=pd.DataFrame(df_training[ci].value_counts())\n",
    "        new_df=pd.concat([new_df,temp],axis=1)\n",
    "    new_df[\"Label\"]=[0,1]\n",
    "    new_df.set_index(\"Label\",inplace=True)\n",
    "    return new_df\n",
    "\n",
    "new_df=freqsummary(df_training)\n",
    "new_df_plot=new_df.T[:50]\n",
    "new_df_plot.plot(kind=\"bar\",figsize=(30,20),stacked=True)"
   ]
  },
  {
   "cell_type": "code",
   "execution_count": null,
   "metadata": {},
   "outputs": [],
   "source": [
    "new_df.T.boxplot()\n",
    "plt.title(\"positive and negative training samples available for each question\")"
   ]
  },
  {
   "cell_type": "code",
   "execution_count": null,
   "metadata": {},
   "outputs": [],
   "source": [
    "#new_df['mean'] = new_df.mean(axis=1)\n",
    "#new_df['std'] = new_df.std(axis=1)\n",
    "#new_df.T.to_csv(\"positive_negative_perquestion.csv\",index=False)"
   ]
  },
  {
   "cell_type": "markdown",
   "metadata": {},
   "source": [
    "### For each question, we have average of 12.85 negatives records and 19.12 positive records "
   ]
  },
  {
   "cell_type": "code",
   "execution_count": null,
   "metadata": {},
   "outputs": [],
   "source": [
    "new_df2=freqsummary(pd.DataFrame(train_matrix.numpy().T))\n",
    "new_df_plot2=new_df2.T[0:50]\n",
    "new_df_plot2.plot(kind=\"bar\",figsize=(30,20),stacked=True)\n"
   ]
  },
  {
   "cell_type": "code",
   "execution_count": null,
   "metadata": {},
   "outputs": [],
   "source": [
    "new_df2.T.boxplot()\n",
    "plt.title(\"positive and negative training samples available for each student\")"
   ]
  },
  {
   "cell_type": "code",
   "execution_count": null,
   "metadata": {},
   "outputs": [],
   "source": [
    "#new_df2['mean'] = new_df2.mean(axis=1)\n",
    "#new_df2['std'] = new_df2.std(axis=1)\n",
    "#new_df2.T.to_csv(\"positive_negative_perstudent.csv\",index=False)"
   ]
  },
  {
   "cell_type": "markdown",
   "metadata": {},
   "source": []
  }
 ],
 "metadata": {
  "interpreter": {
   "hash": "1f0040f8abdf48bfd92f32a87cb01531702908dfe2b434acae3afc6506f33448"
  },
  "kernelspec": {
   "display_name": "Python 3",
   "language": "python",
   "name": "python3"
  },
  "language_info": {
   "codemirror_mode": {
    "name": "ipython",
    "version": 3
   },
   "file_extension": ".py",
   "mimetype": "text/x-python",
   "name": "python",
   "nbconvert_exporter": "python",
   "pygments_lexer": "ipython3",
   "version": "3.9.4"
  }
 },
 "nbformat": 4,
 "nbformat_minor": 2
}
